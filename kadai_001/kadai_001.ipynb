{
  "nbformat": 4,
  "nbformat_minor": 0,
  "metadata": {
    "colab": {
      "provenance": []
    },
    "kernelspec": {
      "name": "python3",
      "display_name": "Python 3"
    },
    "language_info": {
      "name": "python"
    }
  },
  "cells": [
    {
      "cell_type": "code",
      "execution_count": 1,
      "metadata": {
        "colab": {
          "base_uri": "https://localhost:8080/"
        },
        "id": "C2pJYITtMB6D",
        "outputId": "e649f5ba-1322-4845-f79d-3ab6495711e4"
      },
      "outputs": [
        {
          "output_type": "stream",
          "name": "stdout",
          "text": [
            "7/18(金) 13:10配信\n",
            "　志田千陽（左）、松山奈未組\n",
            "　「バドミントン・ジャパン・オープン」（１８日、東京体育館）\n",
            "\n",
            "　女子ダブルス準々決勝が行われた。昨夏のパリ五輪銅メダルで、８月の世界選手権（パリ）限りでの解散を発表した志田千陽、松山奈未組（再春館製薬所）は、世界ランク７位のキム・ヘジョン、コン・ヒヨン組（韓国）に２－１で勝利し、初のベスト４が決まった。直近２大会は準々決勝敗退が続いており、シダマツとして臨む国内最終戦で“鬼門”を突破した。\n",
            "\n",
            "　「最後だと思って頑張ろうと松山と話した。ここを超えられたことは大きい。『よっしゃー』って涙が出た。勝ってうれしいのか、超えてうれしいのか分からない。やりきった」（志田）\n",
            "\n",
            "　第１ゲームは中盤から逆転を許し、１９－２１で献上。接戦を落とし、続く第２ゲームは開始から悪い流れが漂ったが、シダマツが意地を見せた。持ち味の速いローテーションから松山の強打や、志田の相手の逆を突くショットが飛び出し、５連続得点などで一気にリード。一時は同点に追い付かれたが２点差で逃げ切り、試合を振り出しに戻した。\n",
            "\n",
            "　最終ゲームは、点を取り合う一進一退の展開。国内最終戦に集まったファンからは「シダマツ１本！」の声が飛び交った。２０－１８と先にマッチポイントを握ると、最後は松山が冷静にコート外に落ちるシャトルを見送って決着。１時間２６分の激闘を制し、２人からは笑顔をとともにガッツポーズが飛び出した。\n",
            "\n",
            "　１９日は初の準決勝。家族も応援に来ることができる土曜日まで勝ち残ることができた。松山は「やっとここまでこられた。みなさんに楽しいと思ってもらえるようなプレーができたら」と気持ちを込めた。\n",
            "\n",
            "　志田が高校１年、松山が中学３年で参加したジュニア日本代表合宿をきっかけに、１４年からペアを結成。節目の１０年目となった昨年は、パリ五輪で銅メダルを獲得した。ただその後は世界一を志す志田と、モチベーション意地に苦しむ松山との間に目標の相違が生まれたため、８月の世界選手権限りでの解散を決断。今大会はシダマツとしての国内最終戦として臨んでいる。\n"
          ]
        }
      ],
      "source": [
        "import requests\n",
        "from bs4 import BeautifulSoup\n",
        "\n",
        "url = \"https://news.yahoo.co.jp/articles/5668b14588a6e9494c95588d811cfc55ac3266e1\"\n",
        "response = requests.get(url)\n",
        "soup = BeautifulSoup(response.content, 'html.parser')\n",
        "\n",
        "article_body = soup.find('article')\n",
        "paragraphs = article_body.find_all('p') if article_body else []\n",
        "\n",
        "article_text = \"\\n\".join(p.get_text() for p in paragraphs)\n",
        "print(article_text)\n"
      ]
    }
  ]
}